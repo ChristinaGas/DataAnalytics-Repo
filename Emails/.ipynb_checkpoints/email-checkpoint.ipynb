{
 "cells": [
  {
   "cell_type": "code",
   "execution_count": 1,
   "id": "7316f838",
   "metadata": {},
   "outputs": [
    {
     "name": "stderr",
     "output_type": "stream",
     "text": [
      "C:\\Users\\cgasp\\anaconda3\\lib\\site-packages\\scipy\\__init__.py:146: UserWarning: A NumPy version >=1.16.5 and <1.23.0 is required for this version of SciPy (detected version 1.23.5\n",
      "  warnings.warn(f\"A NumPy version >={np_minversion} and <{np_maxversion}\"\n",
      "[nltk_data] Downloading package punkt to\n",
      "[nltk_data]     C:\\Users\\cgasp\\AppData\\Roaming\\nltk_data...\n",
      "[nltk_data]   Package punkt is already up-to-date!\n"
     ]
    }
   ],
   "source": [
    "import pandas as pd\n",
    "import matplotlib.pyplot as plt\n",
    "import numpy as np\n",
    "import seaborn as sns\n",
    "\n",
    "import string\n",
    "string.punctuation\n",
    "\n",
    "import re\n",
    "\n",
    "from nltk.stem import WordNetLemmatizer\n",
    "\n",
    "import nltk\n",
    "\n",
    "from nltk.corpus import stopwords\n",
    "from nltk.stem import PorterStemmer\n",
    "\n",
    "from nltk.tokenize import sent_tokenize\n",
    "from nltk.tokenize import word_tokenize\n",
    "from nltk.corpus import stopwords\n",
    "\n",
    "nltk.download('punkt')\n",
    "nltk.download('stopwords', quiet=True)\n",
    "\n",
    "from sklearn.feature_extraction.text import CountVectorizer\n",
    "\n",
    "from sklearn.linear_model import LogisticRegression\n",
    "from sklearn.metrics import f1_score\n",
    "\n",
    "from sklearn.naive_bayes import MultinomialNB\n",
    "from sklearn.metrics import accuracy_score, classification_report\n",
    "import sklearn"
   ]
  },
  {
   "cell_type": "markdown",
   "id": "911c878a",
   "metadata": {},
   "source": [
    "## Load Datasets and Get familiar with them"
   ]
  },
  {
   "cell_type": "code",
   "execution_count": 2,
   "id": "05b673eb",
   "metadata": {},
   "outputs": [
    {
     "ename": "FileNotFoundError",
     "evalue": "[Errno 2] No such file or directory: 'SMS_train.csv'",
     "output_type": "error",
     "traceback": [
      "\u001b[1;31m---------------------------------------------------------------------------\u001b[0m",
      "\u001b[1;31mFileNotFoundError\u001b[0m                         Traceback (most recent call last)",
      "\u001b[1;32m~\\AppData\\Local\\Temp/ipykernel_28680/1147746631.py\u001b[0m in \u001b[0;36m<module>\u001b[1;34m\u001b[0m\n\u001b[1;32m----> 1\u001b[1;33m \u001b[0memail_train\u001b[0m \u001b[1;33m=\u001b[0m \u001b[0mpd\u001b[0m\u001b[1;33m.\u001b[0m\u001b[0mread_csv\u001b[0m\u001b[1;33m(\u001b[0m\u001b[1;34m'SMS_train.csv'\u001b[0m\u001b[1;33m,\u001b[0m\u001b[0mencoding\u001b[0m\u001b[1;33m=\u001b[0m\u001b[1;34m'cp1252'\u001b[0m\u001b[1;33m)\u001b[0m\u001b[1;33m\u001b[0m\u001b[1;33m\u001b[0m\u001b[0m\n\u001b[0m\u001b[0;32m      2\u001b[0m \u001b[0memail_test\u001b[0m \u001b[1;33m=\u001b[0m \u001b[0mpd\u001b[0m\u001b[1;33m.\u001b[0m\u001b[0mread_csv\u001b[0m\u001b[1;33m(\u001b[0m\u001b[1;34m'SMS_test.csv'\u001b[0m\u001b[1;33m,\u001b[0m\u001b[0mencoding\u001b[0m\u001b[1;33m=\u001b[0m\u001b[1;34m'cp1252'\u001b[0m\u001b[1;33m)\u001b[0m\u001b[1;33m\u001b[0m\u001b[1;33m\u001b[0m\u001b[0m\n",
      "\u001b[1;32m~\\anaconda3\\lib\\site-packages\\pandas\\util\\_decorators.py\u001b[0m in \u001b[0;36mwrapper\u001b[1;34m(*args, **kwargs)\u001b[0m\n\u001b[0;32m    309\u001b[0m                     \u001b[0mstacklevel\u001b[0m\u001b[1;33m=\u001b[0m\u001b[0mstacklevel\u001b[0m\u001b[1;33m,\u001b[0m\u001b[1;33m\u001b[0m\u001b[1;33m\u001b[0m\u001b[0m\n\u001b[0;32m    310\u001b[0m                 )\n\u001b[1;32m--> 311\u001b[1;33m             \u001b[1;32mreturn\u001b[0m \u001b[0mfunc\u001b[0m\u001b[1;33m(\u001b[0m\u001b[1;33m*\u001b[0m\u001b[0margs\u001b[0m\u001b[1;33m,\u001b[0m \u001b[1;33m**\u001b[0m\u001b[0mkwargs\u001b[0m\u001b[1;33m)\u001b[0m\u001b[1;33m\u001b[0m\u001b[1;33m\u001b[0m\u001b[0m\n\u001b[0m\u001b[0;32m    312\u001b[0m \u001b[1;33m\u001b[0m\u001b[0m\n\u001b[0;32m    313\u001b[0m         \u001b[1;32mreturn\u001b[0m \u001b[0mwrapper\u001b[0m\u001b[1;33m\u001b[0m\u001b[1;33m\u001b[0m\u001b[0m\n",
      "\u001b[1;32m~\\anaconda3\\lib\\site-packages\\pandas\\io\\parsers\\readers.py\u001b[0m in \u001b[0;36mread_csv\u001b[1;34m(filepath_or_buffer, sep, delimiter, header, names, index_col, usecols, squeeze, prefix, mangle_dupe_cols, dtype, engine, converters, true_values, false_values, skipinitialspace, skiprows, skipfooter, nrows, na_values, keep_default_na, na_filter, verbose, skip_blank_lines, parse_dates, infer_datetime_format, keep_date_col, date_parser, dayfirst, cache_dates, iterator, chunksize, compression, thousands, decimal, lineterminator, quotechar, quoting, doublequote, escapechar, comment, encoding, encoding_errors, dialect, error_bad_lines, warn_bad_lines, on_bad_lines, delim_whitespace, low_memory, memory_map, float_precision, storage_options)\u001b[0m\n\u001b[0;32m    584\u001b[0m     \u001b[0mkwds\u001b[0m\u001b[1;33m.\u001b[0m\u001b[0mupdate\u001b[0m\u001b[1;33m(\u001b[0m\u001b[0mkwds_defaults\u001b[0m\u001b[1;33m)\u001b[0m\u001b[1;33m\u001b[0m\u001b[1;33m\u001b[0m\u001b[0m\n\u001b[0;32m    585\u001b[0m \u001b[1;33m\u001b[0m\u001b[0m\n\u001b[1;32m--> 586\u001b[1;33m     \u001b[1;32mreturn\u001b[0m \u001b[0m_read\u001b[0m\u001b[1;33m(\u001b[0m\u001b[0mfilepath_or_buffer\u001b[0m\u001b[1;33m,\u001b[0m \u001b[0mkwds\u001b[0m\u001b[1;33m)\u001b[0m\u001b[1;33m\u001b[0m\u001b[1;33m\u001b[0m\u001b[0m\n\u001b[0m\u001b[0;32m    587\u001b[0m \u001b[1;33m\u001b[0m\u001b[0m\n\u001b[0;32m    588\u001b[0m \u001b[1;33m\u001b[0m\u001b[0m\n",
      "\u001b[1;32m~\\anaconda3\\lib\\site-packages\\pandas\\io\\parsers\\readers.py\u001b[0m in \u001b[0;36m_read\u001b[1;34m(filepath_or_buffer, kwds)\u001b[0m\n\u001b[0;32m    480\u001b[0m \u001b[1;33m\u001b[0m\u001b[0m\n\u001b[0;32m    481\u001b[0m     \u001b[1;31m# Create the parser.\u001b[0m\u001b[1;33m\u001b[0m\u001b[1;33m\u001b[0m\u001b[0m\n\u001b[1;32m--> 482\u001b[1;33m     \u001b[0mparser\u001b[0m \u001b[1;33m=\u001b[0m \u001b[0mTextFileReader\u001b[0m\u001b[1;33m(\u001b[0m\u001b[0mfilepath_or_buffer\u001b[0m\u001b[1;33m,\u001b[0m \u001b[1;33m**\u001b[0m\u001b[0mkwds\u001b[0m\u001b[1;33m)\u001b[0m\u001b[1;33m\u001b[0m\u001b[1;33m\u001b[0m\u001b[0m\n\u001b[0m\u001b[0;32m    483\u001b[0m \u001b[1;33m\u001b[0m\u001b[0m\n\u001b[0;32m    484\u001b[0m     \u001b[1;32mif\u001b[0m \u001b[0mchunksize\u001b[0m \u001b[1;32mor\u001b[0m \u001b[0miterator\u001b[0m\u001b[1;33m:\u001b[0m\u001b[1;33m\u001b[0m\u001b[1;33m\u001b[0m\u001b[0m\n",
      "\u001b[1;32m~\\anaconda3\\lib\\site-packages\\pandas\\io\\parsers\\readers.py\u001b[0m in \u001b[0;36m__init__\u001b[1;34m(self, f, engine, **kwds)\u001b[0m\n\u001b[0;32m    809\u001b[0m             \u001b[0mself\u001b[0m\u001b[1;33m.\u001b[0m\u001b[0moptions\u001b[0m\u001b[1;33m[\u001b[0m\u001b[1;34m\"has_index_names\"\u001b[0m\u001b[1;33m]\u001b[0m \u001b[1;33m=\u001b[0m \u001b[0mkwds\u001b[0m\u001b[1;33m[\u001b[0m\u001b[1;34m\"has_index_names\"\u001b[0m\u001b[1;33m]\u001b[0m\u001b[1;33m\u001b[0m\u001b[1;33m\u001b[0m\u001b[0m\n\u001b[0;32m    810\u001b[0m \u001b[1;33m\u001b[0m\u001b[0m\n\u001b[1;32m--> 811\u001b[1;33m         \u001b[0mself\u001b[0m\u001b[1;33m.\u001b[0m\u001b[0m_engine\u001b[0m \u001b[1;33m=\u001b[0m \u001b[0mself\u001b[0m\u001b[1;33m.\u001b[0m\u001b[0m_make_engine\u001b[0m\u001b[1;33m(\u001b[0m\u001b[0mself\u001b[0m\u001b[1;33m.\u001b[0m\u001b[0mengine\u001b[0m\u001b[1;33m)\u001b[0m\u001b[1;33m\u001b[0m\u001b[1;33m\u001b[0m\u001b[0m\n\u001b[0m\u001b[0;32m    812\u001b[0m \u001b[1;33m\u001b[0m\u001b[0m\n\u001b[0;32m    813\u001b[0m     \u001b[1;32mdef\u001b[0m \u001b[0mclose\u001b[0m\u001b[1;33m(\u001b[0m\u001b[0mself\u001b[0m\u001b[1;33m)\u001b[0m\u001b[1;33m:\u001b[0m\u001b[1;33m\u001b[0m\u001b[1;33m\u001b[0m\u001b[0m\n",
      "\u001b[1;32m~\\anaconda3\\lib\\site-packages\\pandas\\io\\parsers\\readers.py\u001b[0m in \u001b[0;36m_make_engine\u001b[1;34m(self, engine)\u001b[0m\n\u001b[0;32m   1038\u001b[0m             )\n\u001b[0;32m   1039\u001b[0m         \u001b[1;31m# error: Too many arguments for \"ParserBase\"\u001b[0m\u001b[1;33m\u001b[0m\u001b[1;33m\u001b[0m\u001b[0m\n\u001b[1;32m-> 1040\u001b[1;33m         \u001b[1;32mreturn\u001b[0m \u001b[0mmapping\u001b[0m\u001b[1;33m[\u001b[0m\u001b[0mengine\u001b[0m\u001b[1;33m]\u001b[0m\u001b[1;33m(\u001b[0m\u001b[0mself\u001b[0m\u001b[1;33m.\u001b[0m\u001b[0mf\u001b[0m\u001b[1;33m,\u001b[0m \u001b[1;33m**\u001b[0m\u001b[0mself\u001b[0m\u001b[1;33m.\u001b[0m\u001b[0moptions\u001b[0m\u001b[1;33m)\u001b[0m  \u001b[1;31m# type: ignore[call-arg]\u001b[0m\u001b[1;33m\u001b[0m\u001b[1;33m\u001b[0m\u001b[0m\n\u001b[0m\u001b[0;32m   1041\u001b[0m \u001b[1;33m\u001b[0m\u001b[0m\n\u001b[0;32m   1042\u001b[0m     \u001b[1;32mdef\u001b[0m \u001b[0m_failover_to_python\u001b[0m\u001b[1;33m(\u001b[0m\u001b[0mself\u001b[0m\u001b[1;33m)\u001b[0m\u001b[1;33m:\u001b[0m\u001b[1;33m\u001b[0m\u001b[1;33m\u001b[0m\u001b[0m\n",
      "\u001b[1;32m~\\anaconda3\\lib\\site-packages\\pandas\\io\\parsers\\c_parser_wrapper.py\u001b[0m in \u001b[0;36m__init__\u001b[1;34m(self, src, **kwds)\u001b[0m\n\u001b[0;32m     49\u001b[0m \u001b[1;33m\u001b[0m\u001b[0m\n\u001b[0;32m     50\u001b[0m         \u001b[1;31m# open handles\u001b[0m\u001b[1;33m\u001b[0m\u001b[1;33m\u001b[0m\u001b[0m\n\u001b[1;32m---> 51\u001b[1;33m         \u001b[0mself\u001b[0m\u001b[1;33m.\u001b[0m\u001b[0m_open_handles\u001b[0m\u001b[1;33m(\u001b[0m\u001b[0msrc\u001b[0m\u001b[1;33m,\u001b[0m \u001b[0mkwds\u001b[0m\u001b[1;33m)\u001b[0m\u001b[1;33m\u001b[0m\u001b[1;33m\u001b[0m\u001b[0m\n\u001b[0m\u001b[0;32m     52\u001b[0m         \u001b[1;32massert\u001b[0m \u001b[0mself\u001b[0m\u001b[1;33m.\u001b[0m\u001b[0mhandles\u001b[0m \u001b[1;32mis\u001b[0m \u001b[1;32mnot\u001b[0m \u001b[1;32mNone\u001b[0m\u001b[1;33m\u001b[0m\u001b[1;33m\u001b[0m\u001b[0m\n\u001b[0;32m     53\u001b[0m \u001b[1;33m\u001b[0m\u001b[0m\n",
      "\u001b[1;32m~\\anaconda3\\lib\\site-packages\\pandas\\io\\parsers\\base_parser.py\u001b[0m in \u001b[0;36m_open_handles\u001b[1;34m(self, src, kwds)\u001b[0m\n\u001b[0;32m    220\u001b[0m         \u001b[0mLet\u001b[0m \u001b[0mthe\u001b[0m \u001b[0mreaders\u001b[0m \u001b[0mopen\u001b[0m \u001b[0mIOHandles\u001b[0m \u001b[0mafter\u001b[0m \u001b[0mthey\u001b[0m \u001b[0mare\u001b[0m \u001b[0mdone\u001b[0m \u001b[1;32mwith\u001b[0m \u001b[0mtheir\u001b[0m \u001b[0mpotential\u001b[0m \u001b[0mraises\u001b[0m\u001b[1;33m.\u001b[0m\u001b[1;33m\u001b[0m\u001b[1;33m\u001b[0m\u001b[0m\n\u001b[0;32m    221\u001b[0m         \"\"\"\n\u001b[1;32m--> 222\u001b[1;33m         self.handles = get_handle(\n\u001b[0m\u001b[0;32m    223\u001b[0m             \u001b[0msrc\u001b[0m\u001b[1;33m,\u001b[0m\u001b[1;33m\u001b[0m\u001b[1;33m\u001b[0m\u001b[0m\n\u001b[0;32m    224\u001b[0m             \u001b[1;34m\"r\"\u001b[0m\u001b[1;33m,\u001b[0m\u001b[1;33m\u001b[0m\u001b[1;33m\u001b[0m\u001b[0m\n",
      "\u001b[1;32m~\\anaconda3\\lib\\site-packages\\pandas\\io\\common.py\u001b[0m in \u001b[0;36mget_handle\u001b[1;34m(path_or_buf, mode, encoding, compression, memory_map, is_text, errors, storage_options)\u001b[0m\n\u001b[0;32m    700\u001b[0m         \u001b[1;32mif\u001b[0m \u001b[0mioargs\u001b[0m\u001b[1;33m.\u001b[0m\u001b[0mencoding\u001b[0m \u001b[1;32mand\u001b[0m \u001b[1;34m\"b\"\u001b[0m \u001b[1;32mnot\u001b[0m \u001b[1;32min\u001b[0m \u001b[0mioargs\u001b[0m\u001b[1;33m.\u001b[0m\u001b[0mmode\u001b[0m\u001b[1;33m:\u001b[0m\u001b[1;33m\u001b[0m\u001b[1;33m\u001b[0m\u001b[0m\n\u001b[0;32m    701\u001b[0m             \u001b[1;31m# Encoding\u001b[0m\u001b[1;33m\u001b[0m\u001b[1;33m\u001b[0m\u001b[0m\n\u001b[1;32m--> 702\u001b[1;33m             handle = open(\n\u001b[0m\u001b[0;32m    703\u001b[0m                 \u001b[0mhandle\u001b[0m\u001b[1;33m,\u001b[0m\u001b[1;33m\u001b[0m\u001b[1;33m\u001b[0m\u001b[0m\n\u001b[0;32m    704\u001b[0m                 \u001b[0mioargs\u001b[0m\u001b[1;33m.\u001b[0m\u001b[0mmode\u001b[0m\u001b[1;33m,\u001b[0m\u001b[1;33m\u001b[0m\u001b[1;33m\u001b[0m\u001b[0m\n",
      "\u001b[1;31mFileNotFoundError\u001b[0m: [Errno 2] No such file or directory: 'SMS_train.csv'"
     ]
    }
   ],
   "source": [
    "email_train = pd.read_csv('SMS_train.csv',encoding='cp1252')\n",
    "email_test = pd.read_csv('SMS_test.csv',encoding='cp1252')"
   ]
  },
  {
   "cell_type": "code",
   "execution_count": null,
   "id": "5d5cea91",
   "metadata": {},
   "outputs": [],
   "source": [
    "email_train.head()"
   ]
  },
  {
   "cell_type": "code",
   "execution_count": null,
   "id": "be6d851f",
   "metadata": {},
   "outputs": [],
   "source": [
    "email_test.head()"
   ]
  },
  {
   "cell_type": "code",
   "execution_count": null,
   "id": "3bb5bcc9",
   "metadata": {},
   "outputs": [],
   "source": [
    "email_train.info()"
   ]
  },
  {
   "cell_type": "code",
   "execution_count": null,
   "id": "aeba69a9",
   "metadata": {},
   "outputs": [],
   "source": [
    "email_train.Label.value_counts().plot(kind='bar')"
   ]
  },
  {
   "cell_type": "code",
   "execution_count": 70,
   "id": "8199f28b",
   "metadata": {},
   "outputs": [],
   "source": [
    "def get_counts(df):\n",
    "    spam = len(df[df['Label'] == 'Spam'])\n",
    "    non_spam = len(df[df['Label'] == 'Non-Spam'])\n",
    "    return (spam, non_spam)"
   ]
  },
  {
   "cell_type": "code",
   "execution_count": 71,
   "id": "cddaf89d",
   "metadata": {},
   "outputs": [],
   "source": [
    "train_spam = get_counts(email_train)[0]\n",
    "train_non_spam = get_counts(email_train)[1]\n",
    "\n",
    "test_spam = get_counts(email_test)[0]\n",
    "test_non_spam = get_counts(email_test)[1]"
   ]
  },
  {
   "cell_type": "code",
   "execution_count": 72,
   "id": "c4d8bae1",
   "metadata": {},
   "outputs": [
    {
     "data": {
      "text/html": [
       "<div>\n",
       "<style scoped>\n",
       "    .dataframe tbody tr th:only-of-type {\n",
       "        vertical-align: middle;\n",
       "    }\n",
       "\n",
       "    .dataframe tbody tr th {\n",
       "        vertical-align: top;\n",
       "    }\n",
       "\n",
       "    .dataframe thead th {\n",
       "        text-align: right;\n",
       "    }\n",
       "</style>\n",
       "<table border=\"1\" class=\"dataframe\">\n",
       "  <thead>\n",
       "    <tr style=\"text-align: right;\">\n",
       "      <th></th>\n",
       "      <th>Train</th>\n",
       "      <th>Test</th>\n",
       "    </tr>\n",
       "  </thead>\n",
       "  <tbody>\n",
       "    <tr>\n",
       "      <th>Spam</th>\n",
       "      <td>122</td>\n",
       "      <td>76</td>\n",
       "    </tr>\n",
       "    <tr>\n",
       "      <th>Non-Spam</th>\n",
       "      <td>835</td>\n",
       "      <td>49</td>\n",
       "    </tr>\n",
       "    <tr>\n",
       "      <th>Total</th>\n",
       "      <td>957</td>\n",
       "      <td>125</td>\n",
       "    </tr>\n",
       "  </tbody>\n",
       "</table>\n",
       "</div>"
      ],
      "text/plain": [
       "          Train  Test\n",
       "Spam        122    76\n",
       "Non-Spam    835    49\n",
       "Total       957   125"
      ]
     },
     "execution_count": 72,
     "metadata": {},
     "output_type": "execute_result"
    }
   ],
   "source": [
    "# Get a table with the number of Spam and Non-Spam emails in the Train and Test dataset.\n",
    "counts = pd.DataFrame({\n",
    "    'Train': [train_spam, train_non_spam, train_spam + train_non_spam],\n",
    "    'Test': [test_spam, test_non_spam, test_spam + test_non_spam]\n",
    "},\n",
    "index = ['Spam', 'Non-Spam', 'Total'])\n",
    "counts"
   ]
  },
  {
   "cell_type": "code",
   "execution_count": 73,
   "id": "35d9ce41",
   "metadata": {},
   "outputs": [
    {
     "data": {
      "image/png": "[encoded data removed]",
      "text/plain": [
       "<Figure size 864x576 with 2 Axes>"
      ]
     },
     "metadata": {},
     "output_type": "display_data"
    }
   ],
   "source": [
    "fig, axes = plt.subplots(1, 2, figsize=(6,4),dpi=144)\n",
    "plt.suptitle(\"Percentage of Spam/Non-Spam for Train and Test Datasets\")\n",
    "\n",
    "for ax, df, title in zip(axes, (email_train, email_test), ('Train', 'Test')):\n",
    "    count = df.Label.value_counts().to_frame().sort_index()\n",
    "    ax.pie(count.Label, labels=count.index, autopct='%1.1f%%')\n",
    "    ax.set_title(title)"
   ]
  },
  {
   "cell_type": "markdown",
   "id": "998905aa",
   "metadata": {
    "heading_collapsed": true
   },
   "source": [
    "## Preprocess the Data"
   ]
  },
  {
   "cell_type": "markdown",
   "id": "313d35b9",
   "metadata": {
    "hidden": true
   },
   "source": [
    "The preprocessing will be performed in both the train and the test set, because the information has to be in the same structure.\n",
    "\n",
    "For the preprocessing the steps below are followed (the use of each one of them is explained in the respective function):\n",
    "1. Remove the 1st column of the df\n",
    "2. Convert all text to lowercase in the Message_body Column\n",
    "3. Remove punctuation in the Message_body Column\n",
    "4. Remove url links in the Message_body Column\n",
    "5. Remove everything that is not in the alphabet in the Message_body Column\n",
    "6. Lemmatize all text in the Message_body Column\n",
    "7. Remove stop words in the Message_body Column\n",
    "8. Convert the Target column (Label) to binary"
   ]
  },
  {
   "cell_type": "code",
   "execution_count": 74,
   "id": "8e55c876",
   "metadata": {
    "hidden": true
   },
   "outputs": [],
   "source": [
    "# Remove the first column, since it doent include any useful information\n",
    "def remove_1st_column(df):\n",
    "    df.drop(df.columns[[0]], axis = 1, inplace = True)\n",
    "    return(df)"
   ]
  },
  {
   "cell_type": "code",
   "execution_count": 75,
   "id": "131387c1",
   "metadata": {
    "hidden": true
   },
   "outputs": [],
   "source": [
    "def convert_to_lowercase(df):\n",
    "    \"\"\"\n",
    "    Convert all the words to lowercase\n",
    "    \"\"\"\n",
    "    df['Message_body'] = df['Message_body'].apply(lambda x: x.lower())\n",
    "    return (df)"
   ]
  },
  {
   "cell_type": "code",
   "execution_count": 76,
   "id": "05be6a28",
   "metadata": {
    "hidden": true
   },
   "outputs": [],
   "source": [
    "def remove_punctuation(text):\n",
    "    \"\"\"\n",
    "    Remove punctuation in a text\n",
    "    \"\"\"\n",
    "    punctuationfree = \"\".join([i for i in text if i not in string.punctuation])\n",
    "    return punctuationfree\n",
    "\n",
    "\n",
    "def get_punctuation_free_df(df):\n",
    "    \"\"\"\n",
    "    Remove punctuation in the whole column\n",
    "    \"\"\"\n",
    "    df['Message_body'] = df['Message_body'].apply(lambda x: remove_punctuation(x))\n",
    "    return df"
   ]
  },
  {
   "cell_type": "code",
   "execution_count": 77,
   "id": "bb252abb",
   "metadata": {
    "hidden": true
   },
   "outputs": [],
   "source": [
    "def remove_html(text):\n",
    "    \"\"\"\n",
    "    Remove url links in a text of a dataframe\n",
    "    \"\"\"\n",
    "    html=re.compile(r'<.*?>')\n",
    "    return html.sub(r'',text)\n",
    "\n",
    "\n",
    "def remove_urls(df):\n",
    "    \"\"\"\n",
    "    Remove url links in a whole column of a dataframe\n",
    "    \"\"\"\n",
    "    df['Message_body'] = [re.sub(r'http\\S+', '', x, flags=re.MULTILINE) for x in df['Message_body']]\n",
    "    df['Message_body'] = df['Message_body'].apply(remove_html)\n",
    "    return df"
   ]
  },
  {
   "cell_type": "code",
   "execution_count": 78,
   "id": "cb726eeb",
   "metadata": {
    "hidden": true
   },
   "outputs": [],
   "source": [
    "def remove_non_alphabet(df):\n",
    "    \"\"\"\n",
    "    Remove everything that isn't in the alphabet (i.e., \"quotation marks\", \"#\", \"@\", and numbers.)\n",
    "    \"\"\"\n",
    "    df['Message_body'] = df['Message_body'].str.replace(\"[^a-zA-Z#]\", \" \")\n",
    "    return df"
   ]
  },
  {
   "cell_type": "code",
   "execution_count": 79,
   "id": "bdd17879",
   "metadata": {
    "hidden": true
   },
   "outputs": [],
   "source": [
    "lemmatizer = WordNetLemmatizer()\n",
    "def lemmatize_text(text):\n",
    "    \"\"\"\n",
    "    Lemmatize all words in a single string\n",
    "    (i.e., convert every word to its root so that all of “running,” “run,” and “runs” \n",
    "    are converted to “run” and and all of “good,” “well,” “better,” and “best” are converted to “good”.)\n",
    "    \"\"\"\n",
    "    words = text.split()\n",
    "    lemmatized_words = [lemmatizer.lemmatize(word) for word in words]\n",
    "    return ' '.join(lemmatized_words)\n",
    "\n",
    "\n",
    "def lemmatize_column(df):\n",
    "    \"\"\"\n",
    "    Lemmatize the whole column of a dataframe\n",
    "    \"\"\"\n",
    "    df['Message_body'] = df['Message_body'].apply(lemmatize_text)\n",
    "    return df"
   ]
  },
  {
   "cell_type": "code",
   "execution_count": 80,
   "id": "1998d2a4",
   "metadata": {
    "hidden": true
   },
   "outputs": [],
   "source": [
    "def remove_stop_words(df):\n",
    "    \"\"\"\n",
    "    Remove stop words\n",
    "    (Stop words are a set of commonly used words in a language. \n",
    "    Examples of stop words in English are “a,” “the,” “is,” “are,” etc.)\n",
    "    \"\"\"\n",
    "    global stop\n",
    "    # splits it into words, filters out stop words, and stores the resulting text in the column\n",
    "    df['Message_body'] = df['Message_body'].apply(lambda x: ' '.join([word for word in x.split() if word not in (stop)]))\n",
    "    return df"
   ]
  },
  {
   "cell_type": "code",
   "execution_count": 81,
   "id": "4e2845d1",
   "metadata": {
    "hidden": true
   },
   "outputs": [],
   "source": [
    "def binary_target(df):\n",
    "    \"\"\"\n",
    "    Convert target values for the input in the regression:\n",
    "    Spam -> 1\n",
    "    Non-Spam ->0\n",
    "    \"\"\"\n",
    "    df['Label'] = df['Label'].apply(lambda x: 1 if x == 'Spam' else 0)\n",
    "    return df"
   ]
  },
  {
   "cell_type": "markdown",
   "id": "8f63d3c2",
   "metadata": {
    "hidden": true
   },
   "source": [
    "### Main Code for Preprocessing"
   ]
  },
  {
   "cell_type": "code",
   "execution_count": 87,
   "id": "67d4afc2",
   "metadata": {
    "hidden": true
   },
   "outputs": [],
   "source": [
    "def preprocessing(df):\n",
    "    remove_1st_column(df)\n",
    "    convert_to_lowercase(df)\n",
    "    get_punctuation_free_df(df)\n",
    "    remove_urls(df)\n",
    "    remove_non_alphabet(df)\n",
    "    lemmatize_column(df)\n",
    "    remove_stop_words(df)\n",
    "    binary_target(df)"
   ]
  },
  {
   "cell_type": "code",
   "execution_count": 88,
   "id": "778ba277",
   "metadata": {
    "hidden": true
   },
   "outputs": [
    {
     "name": "stderr",
     "output_type": "stream",
     "text": [
      "C:\\Users\\cgasp\\AppData\\Local\\Temp/ipykernel_18396/1869487447.py:5: FutureWarning: The default value of regex will change from True to False in a future version.\n",
      "  df['Message_body'] = df['Message_body'].str.replace(\"[^a-zA-Z#]\", \" \")\n"
     ]
    }
   ],
   "source": [
    "stop = stopwords.words('english')\n",
    "\n",
    "preprocessing(email_train)\n",
    "preprocessing(email_test)"
   ]
  },
  {
   "cell_type": "code",
   "execution_count": 89,
   "id": "56a949db",
   "metadata": {
    "hidden": true
   },
   "outputs": [
    {
     "data": {
      "text/html": [
       "<div>\n",
       "<style scoped>\n",
       "    .dataframe tbody tr th:only-of-type {\n",
       "        vertical-align: middle;\n",
       "    }\n",
       "\n",
       "    .dataframe tbody tr th {\n",
       "        vertical-align: top;\n",
       "    }\n",
       "\n",
       "    .dataframe thead th {\n",
       "        text-align: right;\n",
       "    }\n",
       "</style>\n",
       "<table border=\"1\" class=\"dataframe\">\n",
       "  <thead>\n",
       "    <tr style=\"text-align: right;\">\n",
       "      <th></th>\n",
       "      <th>Message_body</th>\n",
       "      <th>Label</th>\n",
       "    </tr>\n",
       "  </thead>\n",
       "  <tbody>\n",
       "    <tr>\n",
       "      <th>0</th>\n",
       "      <td>rofl true name</td>\n",
       "      <td>0</td>\n",
       "    </tr>\n",
       "    <tr>\n",
       "      <th>1</th>\n",
       "      <td>guy bitching acted like id interested buying s...</td>\n",
       "      <td>0</td>\n",
       "    </tr>\n",
       "    <tr>\n",
       "      <th>2</th>\n",
       "      <td>pity wa mood soany suggestion</td>\n",
       "      <td>0</td>\n",
       "    </tr>\n",
       "    <tr>\n",
       "      <th>3</th>\n",
       "      <td>b going esplanade fr home</td>\n",
       "      <td>0</td>\n",
       "    </tr>\n",
       "    <tr>\n",
       "      <th>4</th>\n",
       "      <td>nd time tried contact u u pound prize claim ea...</td>\n",
       "      <td>1</td>\n",
       "    </tr>\n",
       "  </tbody>\n",
       "</table>\n",
       "</div>"
      ],
      "text/plain": [
       "                                        Message_body  Label\n",
       "0                                     rofl true name      0\n",
       "1  guy bitching acted like id interested buying s...      0\n",
       "2                      pity wa mood soany suggestion      0\n",
       "3                          b going esplanade fr home      0\n",
       "4  nd time tried contact u u pound prize claim ea...      1"
      ]
     },
     "execution_count": 89,
     "metadata": {},
     "output_type": "execute_result"
    }
   ],
   "source": [
    "email_train.head()"
   ]
  },
  {
   "cell_type": "markdown",
   "id": "dfc839ae",
   "metadata": {},
   "source": [
    "## Bag of Words Model"
   ]
  },
  {
   "cell_type": "code",
   "execution_count": 26,
   "id": "b3c74d93",
   "metadata": {},
   "outputs": [],
   "source": [
    "# Create the bag of words with the words that appear in at least M=10 emails from the train dataset.\n",
    "# For each email, create a vector with values xi=1 if that word is in the bag of words and 0 otherwise\n",
    "vectorizer = CountVectorizer(binary=True, min_df=10) # I can play with the min_df (M) parameter\n",
    "X_train_vector = vectorizer.fit_transform(email_train['Message_body']).toarray()\n",
    "bag_of_words = vectorizer.get_feature_names()"
   ]
  },
  {
   "cell_type": "code",
   "execution_count": 27,
   "id": "d6175ae8",
   "metadata": {},
   "outputs": [
    {
     "data": {
      "text/plain": [
       "142"
      ]
     },
     "execution_count": 27,
     "metadata": {},
     "output_type": "execute_result"
    }
   ],
   "source": [
    "len(bag_of_words)"
   ]
  },
  {
   "cell_type": "code",
   "execution_count": 28,
   "id": "5edd81eb",
   "metadata": {},
   "outputs": [],
   "source": [
    "# Create that vector for the test set\n",
    "X_test_vector = vectorizer.transform(email_test['Message_body']).toarray()"
   ]
  },
  {
   "cell_type": "code",
   "execution_count": 29,
   "id": "7a47e129",
   "metadata": {},
   "outputs": [
    {
     "data": {
      "text/plain": [
       "125"
      ]
     },
     "execution_count": 29,
     "metadata": {},
     "output_type": "execute_result"
    }
   ],
   "source": [
    "len(X_test_vector)"
   ]
  },
  {
   "cell_type": "markdown",
   "id": "b9a34434",
   "metadata": {},
   "source": [
    "## Logistic Regression"
   ]
  },
  {
   "cell_type": "markdown",
   "id": "a3ef026e",
   "metadata": {},
   "source": [
    "Train logistic regression models using bag of words feature vectors obtained above"
   ]
  },
  {
   "cell_type": "code",
   "execution_count": 60,
   "id": "32ade3ec",
   "metadata": {},
   "outputs": [],
   "source": [
    "y_train = email_train['Label'].to_list()\n",
    "y_test = email_test['Label'].to_list()"
   ]
  },
  {
   "cell_type": "markdown",
   "id": "5fece8c1",
   "metadata": {},
   "source": [
    "### No Regularization"
   ]
  },
  {
   "cell_type": "code",
   "execution_count": 61,
   "id": "caecf2c6",
   "metadata": {},
   "outputs": [],
   "source": [
    "log = LogisticRegression()\n",
    "\n",
    "# Fitting data\n",
    "log.fit(X_train_vector, y_train)\n",
    "\n",
    "# Predicting the data\n",
    "log_pred = log.predict(X_test_vector)"
   ]
  },
  {
   "cell_type": "code",
   "execution_count": 64,
   "id": "a023e7b6",
   "metadata": {},
   "outputs": [
    {
     "name": "stdout",
     "output_type": "stream",
     "text": [
      "With no Regularization the f1 score for the test set is: 0.8227589743589745\n"
     ]
    }
   ],
   "source": [
    "f1_none = f1_score(log_pred, y_test, average='weighted')\n",
    "print ('With no Regularization the f1 score for the test set is:',f1_none)"
   ]
  },
  {
   "cell_type": "code",
   "execution_count": 65,
   "id": "8629e650",
   "metadata": {},
   "outputs": [
    {
     "data": {
      "text/plain": [
       "array([[49,  0],\n",
       "       [22, 54]], dtype=int64)"
      ]
     },
     "execution_count": 65,
     "metadata": {},
     "output_type": "execute_result"
    }
   ],
   "source": [
    "sklearn.metrics.confusion_matrix(y_test, log_pred)"
   ]
  },
  {
   "cell_type": "markdown",
   "id": "3a757c6b",
   "metadata": {},
   "source": [
    "### L1 Regularization"
   ]
  },
  {
   "cell_type": "code",
   "execution_count": 66,
   "id": "109e54c3",
   "metadata": {},
   "outputs": [
    {
     "name": "stdout",
     "output_type": "stream",
     "text": [
      "[1 1 1 1 0 1 1 0 1 1 1 0 1 1 0 1 0 0 0 1 1 1 0 1 0 1 1 1 1 1 0 1 1 1 0 1 1\n",
      " 0 1 1 1 1 1 0 1 1 1 1 0 1 1 0 1 1 1 1 1 1 0 0 1 1 1 1 0 1 0 0 0 0 0 0 0 0\n",
      " 1 0 0 0 0 0 0 0 0 0 1 0 0 0 0 1 0 0 1 0 0 0 0 1 1 1 0 0 0 0 0 0 0 0 0 0 0\n",
      " 0 0 0 0 0 0 0 0 0 0 0 0 0 0]\n",
      "With L1 Regularization the f1 score for the test set is: 0.8306421194431971\n"
     ]
    }
   ],
   "source": [
    "first = LogisticRegression(penalty = 'l1', solver='liblinear')\n",
    "\n",
    "# Fitting data\n",
    "first.fit(X_train_vector, y_train)\n",
    "\n",
    "# Predicting the data for test set\n",
    "log_preds_1 = first.predict(X_test_vector)\n",
    "\n",
    "print(log_preds_1)\n",
    "\n",
    "f1_first = f1_score(log_preds_1, y_test, average='weighted')\n",
    "print ('With L1 Regularization the f1 score for the test set is:',f1_first)"
   ]
  },
  {
   "cell_type": "code",
   "execution_count": 67,
   "id": "9a093c3c",
   "metadata": {},
   "outputs": [
    {
     "data": {
      "text/plain": [
       "array([[49,  0],\n",
       "       [21, 55]], dtype=int64)"
      ]
     },
     "execution_count": 67,
     "metadata": {},
     "output_type": "execute_result"
    }
   ],
   "source": [
    "sklearn.metrics.confusion_matrix(y_test, log_preds_1)"
   ]
  },
  {
   "cell_type": "markdown",
   "id": "d2d57f46",
   "metadata": {},
   "source": [
    "### L2 Regularization"
   ]
  },
  {
   "cell_type": "code",
   "execution_count": 68,
   "id": "e2798cd6",
   "metadata": {},
   "outputs": [
    {
     "name": "stdout",
     "output_type": "stream",
     "text": [
      "[1 1 1 1 1 0 1 0 1 1 1 0 1 1 0 1 0 1 0 1 1 1 0 1 0 1 1 0 1 1 0 1 1 1 0 1 1\n",
      " 0 1 1 1 1 1 0 1 1 1 1 0 1 1 0 1 1 0 0 1 1 0 1 1 1 1 1 0 1 0 0 0 0 0 0 0 0\n",
      " 1 0 0 0 0 0 0 0 0 0 1 0 0 0 0 1 0 0 1 0 0 0 0 1 1 1 0 0 0 0 0 0 0 0 0 0 0\n",
      " 0 0 0 0 0 0 0 0 0 0 0 0 0 0]\n",
      "With L2 Regularization the f1 score for the test set is: 0.8227589743589745\n"
     ]
    }
   ],
   "source": [
    "second = LogisticRegression(penalty='l2')\n",
    "\n",
    "# Fitting data\n",
    "second.fit(X_train_vector, y_train)\n",
    "\n",
    "# Predicting the data\n",
    "log_preds_2 = second.predict(X_test_vector)\n",
    "\n",
    "print(log_preds_2)\n",
    "\n",
    "f1_second = f1_score(log_preds_2, y_test, average='weighted')\n",
    "print ('With L2 Regularization the f1 score for the test set is:',f1_second)"
   ]
  },
  {
   "cell_type": "code",
   "execution_count": 69,
   "id": "23a70e06",
   "metadata": {},
   "outputs": [
    {
     "data": {
      "text/plain": [
       "array([[49,  0],\n",
       "       [22, 54]], dtype=int64)"
      ]
     },
     "execution_count": 69,
     "metadata": {},
     "output_type": "execute_result"
    }
   ],
   "source": [
    "sklearn.metrics.confusion_matrix(y_test, log_preds_2)"
   ]
  },
  {
   "cell_type": "markdown",
   "id": "0bc1822f",
   "metadata": {},
   "source": [
    "### Most important words for deciding whether an email is a spam or not"
   ]
  },
  {
   "cell_type": "markdown",
   "id": "0e25f0fb",
   "metadata": {},
   "source": [
    "With L1 Regularization, since it has the highest F1 score.\n",
    "\n",
    "Based on the θ after training (in other words the weigth vector of the trained model - coefficients)"
   ]
  },
  {
   "cell_type": "code",
   "execution_count": 37,
   "id": "712efe32",
   "metadata": {},
   "outputs": [
    {
     "name": "stdout",
     "output_type": "stream",
     "text": [
      "<class 'list'>\n"
     ]
    }
   ],
   "source": [
    "coefficients = first.coef_[0]\n",
    "\n",
    "absolute_coefficients = np.absolute(coefficients).tolist()\n",
    "print(type(absolute_coefficients))"
   ]
  },
  {
   "cell_type": "code",
   "execution_count": 38,
   "id": "ea1123e1",
   "metadata": {},
   "outputs": [],
   "source": [
    "absolute_coefficients_df = pd.DataFrame(absolute_coefficients, columns = ['coefficients'])\n",
    "absolute_coefficients_df_sorted = absolute_coefficients_df.sort_values('coefficients', ascending=False).reset_index()"
   ]
  },
  {
   "cell_type": "code",
   "execution_count": 39,
   "id": "0a94d9d2",
   "metadata": {},
   "outputs": [
    {
     "name": "stdout",
     "output_type": "stream",
     "text": [
      "the 10 most important words to find if a tweet is related to disaster or not are:\n",
      "txt\n",
      "claim\n",
      "call\n",
      "reply\n",
      "win\n",
      "mobile\n",
      "account\n",
      "text\n",
      "cash\n",
      "im\n"
     ]
    },
    {
     "data": {
      "text/plain": [
       "[None, None, None, None, None, None, None, None, None, None]"
      ]
     },
     "execution_count": 39,
     "metadata": {},
     "output_type": "execute_result"
    }
   ],
   "source": [
    "important_words_coef = absolute_coefficients_df_sorted.head(10)\n",
    "important_words = []\n",
    "for index, row in important_words_coef.iterrows():\n",
    "    important_words.append(bag_of_words[absolute_coefficients_df_sorted['index'][index]])\n",
    "# print(important_words)\n",
    "print('the 10 most important words to find if a tweet is related to disaster or not are:')\n",
    "[print(word) for word in important_words]"
   ]
  },
  {
   "cell_type": "markdown",
   "id": "313c7b8d",
   "metadata": {},
   "source": [
    "### Tuning"
   ]
  },
  {
   "cell_type": "code",
   "execution_count": null,
   "id": "80f139e8",
   "metadata": {},
   "outputs": [],
   "source": []
  },
  {
   "cell_type": "markdown",
   "id": "37de65be",
   "metadata": {},
   "source": [
    "## Bernoulli Naive Bayes"
   ]
  },
  {
   "cell_type": "code",
   "execution_count": 57,
   "id": "73ad1a53",
   "metadata": {},
   "outputs": [],
   "source": [
    "# Define the smoothing parameter (pseudo-count), typically denoted as alpha (α)\n",
    "alpha = 5.0 # I can play with this\n",
    "\n",
    "# Create a Multinomial Naive Bayes classifier with Laplace smoothing\n",
    "nb_classifier = MultinomialNB(alpha=alpha)\n",
    "\n",
    "# Train the classifier on the training data\n",
    "nb_classifier.fit(X_train_vector, y_train)\n",
    "\n",
    "# Make predictions on the test data\n",
    "y_pred = nb_classifier.predict(X_test_vector)"
   ]
  },
  {
   "cell_type": "code",
   "execution_count": 58,
   "id": "bebf7d87",
   "metadata": {},
   "outputs": [
    {
     "name": "stdout",
     "output_type": "stream",
     "text": [
      "Accuracy: 0.90\n",
      "Classification Report:\n",
      "               precision    recall  f1-score   support\n",
      "\n",
      "           0       0.79      1.00      0.88        49\n",
      "           1       1.00      0.83      0.91        76\n",
      "\n",
      "    accuracy                           0.90       125\n",
      "   macro avg       0.90      0.91      0.89       125\n",
      "weighted avg       0.92      0.90      0.90       125\n",
      "\n"
     ]
    }
   ],
   "source": [
    "accuracy = accuracy_score(y_test, y_pred)\n",
    "print(f\"Accuracy: {accuracy:.2f}\")\n",
    "\n",
    "# Generate a classification report\n",
    "report = classification_report(y_test, y_pred)\n",
    "print(\"Classification Report:\\n\", report)"
   ]
  },
  {
   "cell_type": "code",
   "execution_count": 59,
   "id": "385b8c91",
   "metadata": {},
   "outputs": [
    {
     "data": {
      "text/plain": [
       "array([[49,  0],\n",
       "       [13, 63]], dtype=int64)"
      ]
     },
     "execution_count": 59,
     "metadata": {},
     "output_type": "execute_result"
    }
   ],
   "source": [
    "sklearn.metrics.confusion_matrix(y_test, y_pred)"
   ]
  },
  {
   "cell_type": "code",
   "execution_count": null,
   "id": "c426315f",
   "metadata": {},
   "outputs": [],
   "source": []
  },
  {
   "cell_type": "markdown",
   "id": "db0ec7b7",
   "metadata": {},
   "source": [
    "### Tuning"
   ]
  },
  {
   "cell_type": "code",
   "execution_count": null,
   "id": "9ef507ab",
   "metadata": {},
   "outputs": [],
   "source": []
  },
  {
   "cell_type": "markdown",
   "id": "fe9fbb39",
   "metadata": {},
   "source": [
    "## N-gram Model"
   ]
  },
  {
   "cell_type": "markdown",
   "id": "4c8547ab",
   "metadata": {},
   "source": [
    "### 1-gram"
   ]
  },
  {
   "cell_type": "code",
   "execution_count": 42,
   "id": "6cd0d224",
   "metadata": {
    "scrolled": true
   },
   "outputs": [],
   "source": [
    "vectorizer_ngram_12 = CountVectorizer(binary=True, min_df=11, ngram_range=(1,2))\n",
    "X_train_vector_ngram_12 = vectorizer_ngram_12.fit_transform(email_train['Message_body']).toarray()\n",
    "X_test_vector_ngram_12 = vectorizer_ngram_12.transform(email_test['Message_body']).toarray()"
   ]
  },
  {
   "cell_type": "code",
   "execution_count": 43,
   "id": "cd888e2f",
   "metadata": {},
   "outputs": [
    {
     "data": {
      "text/plain": [
       "122"
      ]
     },
     "execution_count": 43,
     "metadata": {},
     "output_type": "execute_result"
    }
   ],
   "source": [
    "len(vectorizer_ngram_12.vocabulary_)"
   ]
  },
  {
   "cell_type": "code",
   "execution_count": 44,
   "id": "0ef82a75",
   "metadata": {
    "scrolled": true
   },
   "outputs": [
    {
     "data": {
      "text/plain": [
       "{'guy': 35,\n",
       " 'like': 52,\n",
       " 'next': 66,\n",
       " 'week': 113,\n",
       " 'free': 25,\n",
       " 'wa': 108,\n",
       " 'going': 30,\n",
       " 'home': 41,\n",
       " 'time': 101,\n",
       " 'contact': 15,\n",
       " 'prize': 78,\n",
       " 'claim': 11,\n",
       " 'call': 7,\n",
       " 'get': 27,\n",
       " 'great': 33,\n",
       " 'pls': 77,\n",
       " 'reply': 81,\n",
       " 'text': 96,\n",
       " 'dont': 23,\n",
       " 'see': 84,\n",
       " 'lor': 54,\n",
       " 'ok': 71,\n",
       " 'ask': 4,\n",
       " 'say': 83,\n",
       " 'come': 13,\n",
       " 'anything': 3,\n",
       " 'ltgt': 56,\n",
       " 'sorry': 89,\n",
       " 'ill': 44,\n",
       " 'later': 49,\n",
       " 'really': 80,\n",
       " 'year': 119,\n",
       " 'yes': 120,\n",
       " 'thats': 97,\n",
       " 'much': 63,\n",
       " 'nice': 67,\n",
       " 'go': 29,\n",
       " 'soon': 88,\n",
       " 'da': 18,\n",
       " 'work': 116,\n",
       " 'love': 55,\n",
       " 'well': 114,\n",
       " 'keep': 46,\n",
       " 'got': 32,\n",
       " 'one': 72,\n",
       " 'cash': 10,\n",
       " 'dear': 20,\n",
       " 'cool': 16,\n",
       " 'think': 99,\n",
       " 'know': 47,\n",
       " 'hi': 40,\n",
       " 'still': 90,\n",
       " 'number': 69,\n",
       " 'im': 45,\n",
       " 'amp': 2,\n",
       " 'back': 6,\n",
       " 'leave': 50,\n",
       " 'havent': 38,\n",
       " 'yeah': 118,\n",
       " 'mobile': 62,\n",
       " 'min': 61,\n",
       " 'day': 19,\n",
       " 'want': 110,\n",
       " 'cant': 8,\n",
       " 'babe': 5,\n",
       " 'wat': 111,\n",
       " 'already': 0,\n",
       " 'would': 117,\n",
       " 'take': 93,\n",
       " 'give': 28,\n",
       " 'ha': 36,\n",
       " 'stop': 91,\n",
       " 'hey': 39,\n",
       " 'need': 64,\n",
       " 'show': 87,\n",
       " 'tell': 95,\n",
       " 'tomorrow': 103,\n",
       " 'please': 76,\n",
       " 'send': 85,\n",
       " 'way': 112,\n",
       " 'right': 82,\n",
       " 'ur': 106,\n",
       " 'happy': 37,\n",
       " 'good': 31,\n",
       " 'oh': 70,\n",
       " 'dinner': 22,\n",
       " 'lol': 53,\n",
       " 'night': 68,\n",
       " 'gud': 34,\n",
       " 'make': 57,\n",
       " 'friend': 26,\n",
       " 'service': 86,\n",
       " 'new': 65,\n",
       " 'stuff': 92,\n",
       " 'hope': 42,\n",
       " 'let': 51,\n",
       " 'tonight': 104,\n",
       " 'also': 1,\n",
       " 'last': 48,\n",
       " 'urgent': 107,\n",
       " 'win': 115,\n",
       " 'message': 60,\n",
       " 'yup': 121,\n",
       " 'thought': 100,\n",
       " 'tc': 94,\n",
       " 'txt': 105,\n",
       " 'phone': 73,\n",
       " 'wan': 109,\n",
       " 'co': 12,\n",
       " 'thing': 98,\n",
       " 'place': 75,\n",
       " 'pick': 74,\n",
       " 'fine': 24,\n",
       " 'didnt': 21,\n",
       " 'today': 102,\n",
       " 'meeting': 59,\n",
       " 'hows': 43,\n",
       " 'many': 58,\n",
       " 'coming': 14,\n",
       " 'problem': 79,\n",
       " 'customer': 17,\n",
       " 'care': 9}"
      ]
     },
     "execution_count": 44,
     "metadata": {},
     "output_type": "execute_result"
    }
   ],
   "source": [
    "vectorizer_ngram_12.vocabulary_"
   ]
  },
  {
   "cell_type": "markdown",
   "id": "24ce4a1b",
   "metadata": {},
   "source": [
    "#### 1-gram, Logistic Regression L1 Regularization"
   ]
  },
  {
   "cell_type": "code",
   "execution_count": 70,
   "id": "3be2e79b",
   "metadata": {},
   "outputs": [
    {
     "name": "stdout",
     "output_type": "stream",
     "text": [
      "With L1 Regularization and 1-Gram the f1 score for the test set is: 0.8385618900873137\n"
     ]
    }
   ],
   "source": [
    "first = LogisticRegression(penalty = 'l1', solver='liblinear')\n",
    "\n",
    "# Fitting data\n",
    "first.fit(X_train_vector_ngram_12, y_train)\n",
    "\n",
    "# Predicting the data for test set\n",
    "log_preds_1 = first.predict(X_test_vector_ngram_12)\n",
    "\n",
    "f1_first = f1_score(log_preds_1, y_test, average='weighted')\n",
    "print ('With L1 Regularization and 1-Gram the f1 score for the test set is:',f1_first)"
   ]
  },
  {
   "cell_type": "code",
   "execution_count": 71,
   "id": "356d89fb",
   "metadata": {},
   "outputs": [
    {
     "data": {
      "text/plain": [
       "array([[49,  0],\n",
       "       [20, 56]], dtype=int64)"
      ]
     },
     "execution_count": 71,
     "metadata": {},
     "output_type": "execute_result"
    }
   ],
   "source": [
    "sklearn.metrics.confusion_matrix(y_test, log_preds_1)"
   ]
  },
  {
   "cell_type": "markdown",
   "id": "0b4472b5",
   "metadata": {},
   "source": [
    "#### N-gram M=1, Naive Bayes"
   ]
  },
  {
   "cell_type": "code",
   "execution_count": 72,
   "id": "74b74fc6",
   "metadata": {},
   "outputs": [],
   "source": [
    "# Define the smoothing parameter (pseudo-count), typically denoted as alpha (α)\n",
    "alpha = 5.0 # I can play with this\n",
    "\n",
    "# Create a Multinomial Naive Bayes classifier with Laplace smoothing\n",
    "nb_classifier = MultinomialNB(alpha=alpha)\n",
    "\n",
    "# Train the classifier on the training data\n",
    "nb_classifier.fit(X_train_vector_ngram_12, y_train)\n",
    "\n",
    "# Make predictions on the test data\n",
    "y_pred = nb_classifier.predict(X_test_vector_ngram_12)"
   ]
  },
  {
   "cell_type": "code",
   "execution_count": 73,
   "id": "b68e8d8c",
   "metadata": {},
   "outputs": [
    {
     "name": "stdout",
     "output_type": "stream",
     "text": [
      "Accuracy: 0.90\n",
      "Classification Report:\n",
      "               precision    recall  f1-score   support\n",
      "\n",
      "           0       0.79      1.00      0.88        49\n",
      "           1       1.00      0.83      0.91        76\n",
      "\n",
      "    accuracy                           0.90       125\n",
      "   macro avg       0.90      0.91      0.89       125\n",
      "weighted avg       0.92      0.90      0.90       125\n",
      "\n"
     ]
    }
   ],
   "source": [
    "accuracy = accuracy_score(y_test, y_pred)\n",
    "print(f\"Accuracy: {accuracy:.2f}\")\n",
    "\n",
    "# Generate a classification report\n",
    "report = classification_report(y_test, y_pred)\n",
    "print(\"Classification Report:\\n\", report)"
   ]
  },
  {
   "cell_type": "code",
   "execution_count": 74,
   "id": "456a52e1",
   "metadata": {},
   "outputs": [
    {
     "data": {
      "text/plain": [
       "array([[49,  0],\n",
       "       [13, 63]], dtype=int64)"
      ]
     },
     "execution_count": 74,
     "metadata": {},
     "output_type": "execute_result"
    }
   ],
   "source": [
    "sklearn.metrics.confusion_matrix(y_test, y_pred)"
   ]
  },
  {
   "cell_type": "markdown",
   "id": "8fd39358",
   "metadata": {},
   "source": [
    "### 2-gram"
   ]
  },
  {
   "cell_type": "code",
   "execution_count": 48,
   "id": "44bbc520",
   "metadata": {},
   "outputs": [],
   "source": [
    "vectorizer_ngram_22 = CountVectorizer(binary=True, min_df=7, ngram_range=(2,2))\n",
    "X_train_vector_ngram22 = vectorizer_ngram_22.fit_transform(email_train['Message_body']).toarray()\n",
    "X_test_vector_ngram22 = vectorizer_ngram_22.transform(email_test['Message_body']).toarray()"
   ]
  },
  {
   "cell_type": "code",
   "execution_count": 49,
   "id": "a921353d",
   "metadata": {},
   "outputs": [
    {
     "data": {
      "text/plain": [
       "11"
      ]
     },
     "execution_count": 49,
     "metadata": {},
     "output_type": "execute_result"
    }
   ],
   "source": [
    "len(vectorizer_ngram_22.vocabulary_)"
   ]
  },
  {
   "cell_type": "code",
   "execution_count": 50,
   "id": "67f0989a",
   "metadata": {},
   "outputs": [
    {
     "data": {
      "text/plain": [
       "{'ill call': 6,\n",
       " 'call later': 2,\n",
       " 'private account': 8,\n",
       " 'account statement': 0,\n",
       " 'show unredeemed': 10,\n",
       " 'call identifier': 1,\n",
       " 'identifier code': 5,\n",
       " 'good morning': 4,\n",
       " 'dont know': 3,\n",
       " 'please call': 7,\n",
       " 'send stop': 9}"
      ]
     },
     "execution_count": 50,
     "metadata": {},
     "output_type": "execute_result"
    }
   ],
   "source": [
    "vectorizer_ngram_22.vocabulary_"
   ]
  },
  {
   "cell_type": "markdown",
   "id": "ab0ea423",
   "metadata": {},
   "source": [
    "#### 2-gram, Logistic Regression L1 Regularization"
   ]
  },
  {
   "cell_type": "code",
   "execution_count": 110,
   "id": "fdd71712",
   "metadata": {},
   "outputs": [
    {
     "name": "stdout",
     "output_type": "stream",
     "text": [
      "With L1 Regularization and 2-Gram the f1 score for the test set is: 0.5634098549888176\n"
     ]
    }
   ],
   "source": [
    "first = LogisticRegression(penalty = 'l1', solver='liblinear')\n",
    "\n",
    "# Fitting data\n",
    "first.fit(X_train_vector_ngram22, y_train)\n",
    "\n",
    "# Predicting the data for test set\n",
    "log_preds_1 = first.predict(X_test_vector_ngram22)\n",
    "\n",
    "f1_first = f1_score(log_preds_1, y_test, average='weighted')\n",
    "print ('With L1 Regularization and 2-Gram the f1 score for the test set is:',f1_first)"
   ]
  },
  {
   "cell_type": "code",
   "execution_count": 76,
   "id": "b173976a",
   "metadata": {},
   "outputs": [
    {
     "data": {
      "text/plain": [
       "array([[49,  0],\n",
       "       [69,  7]], dtype=int64)"
      ]
     },
     "execution_count": 76,
     "metadata": {},
     "output_type": "execute_result"
    }
   ],
   "source": [
    "sklearn.metrics.confusion_matrix(y_test, log_preds_1)"
   ]
  },
  {
   "cell_type": "code",
   "execution_count": 114,
   "id": "fad0ecb5",
   "metadata": {},
   "outputs": [],
   "source": [
    "params = {'alphas': [],\n",
    "         'min_dfs': [],\n",
    "         'f1': []}\n",
    "\n",
    "for min_df in range(3,15):\n",
    "    vectorizer_ngram_22 = CountVectorizer(binary=True, min_df=7, ngram_range=(2,2))\n",
    "    X_train_vector_ngram22 = vectorizer_ngram_22.fit_transform(email_train['Message_body']).toarray()\n",
    "    X_test_vector_ngram22 = vectorizer_ngram_22.transform(email_test['Message_body']).toarray()\n",
    "\n",
    "    first = LogisticRegression(penalty = 'l1', solver='liblinear')\n",
    "\n",
    "    # Fitting data\n",
    "    first.fit(X_train_vector_ngram22, y_train)\n",
    "\n",
    "    # Predicting the data for test set\n",
    "    log_preds_1 = first.predict(X_test_vector_ngram22)\n",
    "\n",
    "    f1_first = f1_score(log_preds_1, y_test, average='weighted')\n",
    "\n",
    "    accuracy = accuracy_score(y_test, log_preds_1)\n",
    "\n",
    "    params['alphas'].append(alpha)\n",
    "    params['min_dfs'].append(min_df)\n",
    "    params['f1'].append(f1_first)"
   ]
  },
  {
   "cell_type": "code",
   "execution_count": 115,
   "id": "1f0b9efa",
   "metadata": {},
   "outputs": [
    {
     "data": {
      "text/plain": [
       "0"
      ]
     },
     "execution_count": 115,
     "metadata": {},
     "output_type": "execute_result"
    }
   ],
   "source": [
    "params['f1'].index(max(params['f1']))"
   ]
  },
  {
   "cell_type": "code",
   "execution_count": 116,
   "id": "6025e3e5",
   "metadata": {},
   "outputs": [
    {
     "data": {
      "text/plain": [
       "0.5634098549888176"
      ]
     },
     "execution_count": 116,
     "metadata": {},
     "output_type": "execute_result"
    }
   ],
   "source": [
    "max(params['f1'])"
   ]
  },
  {
   "cell_type": "markdown",
   "id": "f9dab373",
   "metadata": {},
   "source": [
    "#### 2-gram, Naive Bayes"
   ]
  },
  {
   "cell_type": "code",
   "execution_count": 52,
   "id": "1a933e55",
   "metadata": {},
   "outputs": [],
   "source": [
    "# Define the smoothing parameter (pseudo-count), typically denoted as alpha (α)\n",
    "alpha = 8.0 # I can play with this\n",
    "\n",
    "# Create a Multinomial Naive Bayes classifier with Laplace smoothing\n",
    "nb_classifier = MultinomialNB(alpha=alpha)\n",
    "\n",
    "# Train the classifier on the training data\n",
    "nb_classifier.fit(X_train_vector_ngram22, y_train)\n",
    "\n",
    "# Make predictions on the test data\n",
    "y_pred = nb_classifier.predict(X_test_vector_ngram22)"
   ]
  },
  {
   "cell_type": "code",
   "execution_count": 53,
   "id": "2a02f60e",
   "metadata": {},
   "outputs": [
    {
     "name": "stdout",
     "output_type": "stream",
     "text": [
      "Accuracy: 0.40\n",
      "Classification Report:\n",
      "               precision    recall  f1-score   support\n",
      "\n",
      "           0       0.40      1.00      0.57        49\n",
      "           1       1.00      0.01      0.03        76\n",
      "\n",
      "    accuracy                           0.40       125\n",
      "   macro avg       0.70      0.51      0.30       125\n",
      "weighted avg       0.76      0.40      0.24       125\n",
      "\n"
     ]
    }
   ],
   "source": [
    "accuracy = accuracy_score(y_test, y_pred)\n",
    "print(f\"Accuracy: {accuracy:.2f}\")\n",
    "\n",
    "# Generate a classification report\n",
    "report = classification_report(y_test, y_pred)\n",
    "print(\"Classification Report:\\n\", report)"
   ]
  },
  {
   "cell_type": "code",
   "execution_count": 77,
   "id": "49e27cc5",
   "metadata": {},
   "outputs": [
    {
     "data": {
      "text/plain": [
       "array([[49,  0],\n",
       "       [13, 63]], dtype=int64)"
      ]
     },
     "execution_count": 77,
     "metadata": {},
     "output_type": "execute_result"
    }
   ],
   "source": [
    "sklearn.metrics.confusion_matrix(y_test, y_pred)"
   ]
  },
  {
   "cell_type": "markdown",
   "id": "f84d29ec",
   "metadata": {},
   "source": [
    "#### Tuning"
   ]
  },
  {
   "cell_type": "code",
   "execution_count": 82,
   "id": "03cfddf2",
   "metadata": {},
   "outputs": [],
   "source": [
    "params = {'alphas': [],\n",
    "         'min_dfs': [],\n",
    "         'accuracy': []}\n",
    "for alpha in np.arange(0.01, 7, 0.05):\n",
    "    for min_df in range(3,10):\n",
    "        vectorizer_ngram_22 = CountVectorizer(binary=True, min_df=7, ngram_range=(2,2))\n",
    "        X_train_vector_ngram22 = vectorizer_ngram_22.fit_transform(email_train['Message_body']).toarray()\n",
    "        X_test_vector_ngram22 = vectorizer_ngram_22.transform(email_test['Message_body']).toarray()\n",
    "        \n",
    "        # Create a Multinomial Naive Bayes classifier with Laplace smoothing\n",
    "        nb_classifier = MultinomialNB(alpha=alpha)\n",
    "\n",
    "        # Train the classifier on the training data\n",
    "        nb_classifier.fit(X_train_vector_ngram22, y_train)\n",
    "\n",
    "        # Make predictions on the test data\n",
    "        y_pred = nb_classifier.predict(X_test_vector_ngram22)\n",
    "        \n",
    "        accuracy = accuracy_score(y_test, y_pred)\n",
    "        \n",
    "        params['alphas'].append(alpha)\n",
    "        params['min_dfs'].append(min_df)\n",
    "        params['accuracy'].append(accuracy)"
   ]
  },
  {
   "cell_type": "code",
   "execution_count": 84,
   "id": "4ce89446",
   "metadata": {},
   "outputs": [
    {
     "data": {
      "text/plain": [
       "0.4"
      ]
     },
     "execution_count": 84,
     "metadata": {},
     "output_type": "execute_result"
    }
   ],
   "source": [
    "max(params['accuracy'])"
   ]
  },
  {
   "cell_type": "code",
   "execution_count": null,
   "id": "266541f8",
   "metadata": {},
   "outputs": [],
   "source": []
  }
 ],
 "metadata": {
  "kernelspec": {
   "display_name": "Python 3 (ipykernel)",
   "language": "python",
   "name": "python3"
  },
  "language_info": {
   "codemirror_mode": {
    "name": "ipython",
    "version": 3
   },
   "file_extension": ".py",
   "mimetype": "text/x-python",
   "name": "python",
   "nbconvert_exporter": "python",
   "pygments_lexer": "ipython3",
   "version": "3.9.7"
  }
 },
 "nbformat": 4,
 "nbformat_minor": 5
}
